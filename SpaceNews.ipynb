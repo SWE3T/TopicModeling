{
  "nbformat": 4,
  "nbformat_minor": 0,
  "metadata": {
    "colab": {
      "provenance": [],
      "include_colab_link": true
    },
    "kernelspec": {
      "name": "python3",
      "display_name": "Python 3"
    },
    "language_info": {
      "name": "python"
    }
  },
  "cells": [
    {
      "cell_type": "markdown",
      "metadata": {
        "id": "view-in-github",
        "colab_type": "text"
      },
      "source": [
        "<a href=\"https://colab.research.google.com/github/SWE3T/TopicModeling/blob/main/SpaceNews.ipynb\" target=\"_parent\"><img src=\"https://colab.research.google.com/assets/colab-badge.svg\" alt=\"Open In Colab\"/></a>"
      ]
    },
    {
      "cell_type": "markdown",
      "source": [
        "### Script that presents some text processing (NLP techniques)"
      ],
      "metadata": {
        "id": "BT7bjHgnQfMD"
      }
    },
    {
      "cell_type": "code",
      "execution_count": 5,
      "metadata": {
        "id": "SUIyOrP6OxVh",
        "colab": {
          "base_uri": "https://localhost:8080/"
        },
        "outputId": "f03de1dc-1400-49d4-dfdd-98db7699fc32"
      },
      "outputs": [
        {
          "output_type": "stream",
          "name": "stdout",
          "text": [
            "Drive already mounted at /content/drive; to attempt to forcibly remount, call drive.mount(\"/content/drive\", force_remount=True).\n"
          ]
        },
        {
          "output_type": "stream",
          "name": "stderr",
          "text": [
            "[nltk_data] Downloading package wordnet to /root/nltk_data...\n",
            "[nltk_data]   Package wordnet is already up-to-date!\n",
            "[nltk_data] Downloading package stopwords to /root/nltk_data...\n",
            "[nltk_data]   Package stopwords is already up-to-date!\n"
          ]
        },
        {
          "output_type": "stream",
          "name": "stdout",
          "text": [
            "\u001b[38;5;2m✔ Download and installation successful\u001b[0m\n",
            "You can now load the package via spacy.load('en_core_web_md')\n"
          ]
        }
      ],
      "source": [
        "from google.colab import drive\n",
        "drive.mount('/content/drive')\n",
        "\n",
        "import gensim\n",
        "from gensim.models.phrases import Phrases, Phraser\n",
        "\n",
        "import spacy\n",
        "import string\n",
        "\n",
        "import nltk\n",
        "from nltk.corpus import stopwords\n",
        "from nltk.stem import PorterStemmer\n",
        "from nltk.stem import WordNetLemmatizer\n",
        "\n",
        "nltk.download('wordnet')\n",
        "nltk.download('stopwords')\n",
        "\n",
        "import pandas as pd\n",
        "\n",
        "import numpy as np\n",
        "\n",
        "stop = set(stopwords.words('english'))\n",
        "exclude = set(string.punctuation)\n",
        "\n",
        "spacy.cli.download(\"en_core_web_md\")\n",
        "nlp = spacy.load('en_core_web_md')"
      ]
    },
    {
      "cell_type": "code",
      "source": [
        "# function to clean a document: remove stopwords and punctuation\n",
        "def clean(doc):\n",
        "    stop_free = \" \".join([w for w in doc.lower().split() if w not in stop])\n",
        "    punc_free = ''.join(ch for ch in stop_free if ch not in exclude)\n",
        "    return punc_free"
      ],
      "metadata": {
        "id": "drlcwIK8QR2N"
      },
      "execution_count": 2,
      "outputs": []
    },
    {
      "cell_type": "code",
      "source": [
        "fpath='/content/drive/MyDrive/Códigos/Modelagem de tópicos/Final Work/dataset /'\n",
        "\n",
        "data = pd.read_csv(fpath+'spacenews-december-2022.csv')\n",
        "# docs=[]\n",
        "# for d in in_f.readlines():\n",
        "# \tdocs.append(d[:-1])\n",
        "# in_f.close()\n",
        "# TDOC=1000 # total of documents to be tested\n",
        "# NDOC=4 # running example document\n",
        "# # keep the first TDOC documents for this  case study\n",
        "# docs=docs[:TDOC]\n",
        "# #document NDOC in the collection\n",
        "# docs[NDOC]"
      ],
      "metadata": {
        "id": "1bGzmhcAPH9J"
      },
      "execution_count": 13,
      "outputs": []
    },
    {
      "cell_type": "code",
      "source": [
        "data"
      ],
      "metadata": {
        "colab": {
          "base_uri": "https://localhost:8080/",
          "height": 424
        },
        "id": "mfjNU-T0ae5M",
        "outputId": "3c79e47b-a868-4afe-c14a-a5ac7135ba9c"
      },
      "execution_count": 8,
      "outputs": [
        {
          "output_type": "execute_result",
          "data": {
            "text/plain": [
              "                                                   title  \\\n",
              "0                   Orion splashes down to end Artemis 1   \n",
              "1      Polaris Dawn crewed mission could suffer addit...   \n",
              "2                   DART on track for asteroid collision   \n",
              "3      U.S. Space Command calls for investment in tec...   \n",
              "4      SpaceX requests permission for direct-to-smart...   \n",
              "...                                                  ...   \n",
              "18349  Kendall lays out Pentagon thinking on future s...   \n",
              "18350  A larger share of NOAA’s declining space budge...   \n",
              "18351  Think Tank Turns Its Attention To Mars As 2016...   \n",
              "18352  House Bill Leaves Last Three JPSS Satellites i...   \n",
              "18353  Championing a Climate Change for Commercial We...   \n",
              "\n",
              "                                                     url  \\\n",
              "0      https://spacenews.com/orion-splashes-down-to-e...   \n",
              "1      https://spacenews.com/polaris-dawn-crewed-miss...   \n",
              "2      https://spacenews.com/dart-on-track-for-astero...   \n",
              "3      https://spacenews.com/u-s-space-command-calls-...   \n",
              "4      https://spacenews.com/spacex-requests-permissi...   \n",
              "...                                                  ...   \n",
              "18349       https://spacenews.com/frank-kendall-at-wsbr/   \n",
              "18350  https://spacenews.com/a-larger-share-of-noaas-...   \n",
              "18351  https://spacenews.com/think-tank-turns-its-att...   \n",
              "18352  https://spacenews.com/no-money-for-noaa-weathe...   \n",
              "18353  https://spacenews.com/championing-a-changing-c...   \n",
              "\n",
              "                                                 content           author  \\\n",
              "0      Updated at 5:45 p.m. Eastern after post-splash...       Jeff Foust   \n",
              "1      LAS VEGAS — A billionaire-backed private astro...       Jeff Foust   \n",
              "2      WASHINGTON — A NASA spacecraft is on course to...       Jeff Foust   \n",
              "3      WASHINGTON — Lt. Gen. John Shaw, deputy comman...     Sandra Erwin   \n",
              "4      TAMPA, Fla. — SpaceX could provide “full and c...    Jason Rainbow   \n",
              "...                                                  ...              ...   \n",
              "18349  \\nFrank Kendall, the Pentagon’s top acquisitio...  SpaceNews Staff   \n",
              "18350  Updated Feb. 10 at 10:18 p.m. Eastern The U.S....     Debra Werner   \n",
              "18351  WASHINGTON — As NASA develops a long-term stra...       Jeff Foust   \n",
              "18352  WASHINGTON — A spending bill the House passed ...        Dan Leone   \n",
              "18353  U.S. Rep. Jim Bridenstine (R-Okla.) is a growi...       Jeff Foust   \n",
              "\n",
              "                     date                                        postexcerpt  \n",
              "0       December 11, 2022  Fifty years to the day after the last Apollo m...  \n",
              "1        October 25, 2022  A billionaire-backed private astronaut mission...  \n",
              "2      September 25, 2022  A NASA spacecraft is on course to deliberately...  \n",
              "3         August 31, 2022  U.S. Space Command's Lt. Gen. John Shaw said '...  \n",
              "4        December 8, 2022  SpaceX could provide “full and continuous” dir...  \n",
              "...                   ...                                                ...  \n",
              "18349   February 25, 2016  Frank Kendall, the Pentagon’s top acquisition ...  \n",
              "18350   February 10, 2016  The U.S. National Oceanic and Atmospheric Admi...  \n",
              "18351       June 11, 2015  As NASA develops a long-term strategy to suppo...  \n",
              "18352        June 4, 2015  A spending bill the House passed June 3 would ...  \n",
              "18353   February 18, 2015  Rep. Jim Bridenstine, who emerged in 2014 as a...  \n",
              "\n",
              "[18354 rows x 6 columns]"
            ],
            "text/html": [
              "\n",
              "  <div id=\"df-f5f78f91-1593-48df-9654-45b54fdc8225\">\n",
              "    <div class=\"colab-df-container\">\n",
              "      <div>\n",
              "<style scoped>\n",
              "    .dataframe tbody tr th:only-of-type {\n",
              "        vertical-align: middle;\n",
              "    }\n",
              "\n",
              "    .dataframe tbody tr th {\n",
              "        vertical-align: top;\n",
              "    }\n",
              "\n",
              "    .dataframe thead th {\n",
              "        text-align: right;\n",
              "    }\n",
              "</style>\n",
              "<table border=\"1\" class=\"dataframe\">\n",
              "  <thead>\n",
              "    <tr style=\"text-align: right;\">\n",
              "      <th></th>\n",
              "      <th>title</th>\n",
              "      <th>url</th>\n",
              "      <th>content</th>\n",
              "      <th>author</th>\n",
              "      <th>date</th>\n",
              "      <th>postexcerpt</th>\n",
              "    </tr>\n",
              "  </thead>\n",
              "  <tbody>\n",
              "    <tr>\n",
              "      <th>0</th>\n",
              "      <td>Orion splashes down to end Artemis 1</td>\n",
              "      <td>https://spacenews.com/orion-splashes-down-to-e...</td>\n",
              "      <td>Updated at 5:45 p.m. Eastern after post-splash...</td>\n",
              "      <td>Jeff Foust</td>\n",
              "      <td>December 11, 2022</td>\n",
              "      <td>Fifty years to the day after the last Apollo m...</td>\n",
              "    </tr>\n",
              "    <tr>\n",
              "      <th>1</th>\n",
              "      <td>Polaris Dawn crewed mission could suffer addit...</td>\n",
              "      <td>https://spacenews.com/polaris-dawn-crewed-miss...</td>\n",
              "      <td>LAS VEGAS — A billionaire-backed private astro...</td>\n",
              "      <td>Jeff Foust</td>\n",
              "      <td>October 25, 2022</td>\n",
              "      <td>A billionaire-backed private astronaut mission...</td>\n",
              "    </tr>\n",
              "    <tr>\n",
              "      <th>2</th>\n",
              "      <td>DART on track for asteroid collision</td>\n",
              "      <td>https://spacenews.com/dart-on-track-for-astero...</td>\n",
              "      <td>WASHINGTON — A NASA spacecraft is on course to...</td>\n",
              "      <td>Jeff Foust</td>\n",
              "      <td>September 25, 2022</td>\n",
              "      <td>A NASA spacecraft is on course to deliberately...</td>\n",
              "    </tr>\n",
              "    <tr>\n",
              "      <th>3</th>\n",
              "      <td>U.S. Space Command calls for investment in tec...</td>\n",
              "      <td>https://spacenews.com/u-s-space-command-calls-...</td>\n",
              "      <td>WASHINGTON — Lt. Gen. John Shaw, deputy comman...</td>\n",
              "      <td>Sandra Erwin</td>\n",
              "      <td>August 31, 2022</td>\n",
              "      <td>U.S. Space Command's Lt. Gen. John Shaw said '...</td>\n",
              "    </tr>\n",
              "    <tr>\n",
              "      <th>4</th>\n",
              "      <td>SpaceX requests permission for direct-to-smart...</td>\n",
              "      <td>https://spacenews.com/spacex-requests-permissi...</td>\n",
              "      <td>TAMPA, Fla. — SpaceX could provide “full and c...</td>\n",
              "      <td>Jason Rainbow</td>\n",
              "      <td>December 8, 2022</td>\n",
              "      <td>SpaceX could provide “full and continuous” dir...</td>\n",
              "    </tr>\n",
              "    <tr>\n",
              "      <th>...</th>\n",
              "      <td>...</td>\n",
              "      <td>...</td>\n",
              "      <td>...</td>\n",
              "      <td>...</td>\n",
              "      <td>...</td>\n",
              "      <td>...</td>\n",
              "    </tr>\n",
              "    <tr>\n",
              "      <th>18349</th>\n",
              "      <td>Kendall lays out Pentagon thinking on future s...</td>\n",
              "      <td>https://spacenews.com/frank-kendall-at-wsbr/</td>\n",
              "      <td>\\nFrank Kendall, the Pentagon’s top acquisitio...</td>\n",
              "      <td>SpaceNews Staff</td>\n",
              "      <td>February 25, 2016</td>\n",
              "      <td>Frank Kendall, the Pentagon’s top acquisition ...</td>\n",
              "    </tr>\n",
              "    <tr>\n",
              "      <th>18350</th>\n",
              "      <td>A larger share of NOAA’s declining space budge...</td>\n",
              "      <td>https://spacenews.com/a-larger-share-of-noaas-...</td>\n",
              "      <td>Updated Feb. 10 at 10:18 p.m. Eastern The U.S....</td>\n",
              "      <td>Debra Werner</td>\n",
              "      <td>February 10, 2016</td>\n",
              "      <td>The U.S. National Oceanic and Atmospheric Admi...</td>\n",
              "    </tr>\n",
              "    <tr>\n",
              "      <th>18351</th>\n",
              "      <td>Think Tank Turns Its Attention To Mars As 2016...</td>\n",
              "      <td>https://spacenews.com/think-tank-turns-its-att...</td>\n",
              "      <td>WASHINGTON — As NASA develops a long-term stra...</td>\n",
              "      <td>Jeff Foust</td>\n",
              "      <td>June 11, 2015</td>\n",
              "      <td>As NASA develops a long-term strategy to suppo...</td>\n",
              "    </tr>\n",
              "    <tr>\n",
              "      <th>18352</th>\n",
              "      <td>House Bill Leaves Last Three JPSS Satellites i...</td>\n",
              "      <td>https://spacenews.com/no-money-for-noaa-weathe...</td>\n",
              "      <td>WASHINGTON — A spending bill the House passed ...</td>\n",
              "      <td>Dan Leone</td>\n",
              "      <td>June 4, 2015</td>\n",
              "      <td>A spending bill the House passed June 3 would ...</td>\n",
              "    </tr>\n",
              "    <tr>\n",
              "      <th>18353</th>\n",
              "      <td>Championing a Climate Change for Commercial We...</td>\n",
              "      <td>https://spacenews.com/championing-a-changing-c...</td>\n",
              "      <td>U.S. Rep. Jim Bridenstine (R-Okla.) is a growi...</td>\n",
              "      <td>Jeff Foust</td>\n",
              "      <td>February 18, 2015</td>\n",
              "      <td>Rep. Jim Bridenstine, who emerged in 2014 as a...</td>\n",
              "    </tr>\n",
              "  </tbody>\n",
              "</table>\n",
              "<p>18354 rows × 6 columns</p>\n",
              "</div>\n",
              "      <button class=\"colab-df-convert\" onclick=\"convertToInteractive('df-f5f78f91-1593-48df-9654-45b54fdc8225')\"\n",
              "              title=\"Convert this dataframe to an interactive table.\"\n",
              "              style=\"display:none;\">\n",
              "        \n",
              "  <svg xmlns=\"http://www.w3.org/2000/svg\" height=\"24px\"viewBox=\"0 0 24 24\"\n",
              "       width=\"24px\">\n",
              "    <path d=\"M0 0h24v24H0V0z\" fill=\"none\"/>\n",
              "    <path d=\"M18.56 5.44l.94 2.06.94-2.06 2.06-.94-2.06-.94-.94-2.06-.94 2.06-2.06.94zm-11 1L8.5 8.5l.94-2.06 2.06-.94-2.06-.94L8.5 2.5l-.94 2.06-2.06.94zm10 10l.94 2.06.94-2.06 2.06-.94-2.06-.94-.94-2.06-.94 2.06-2.06.94z\"/><path d=\"M17.41 7.96l-1.37-1.37c-.4-.4-.92-.59-1.43-.59-.52 0-1.04.2-1.43.59L10.3 9.45l-7.72 7.72c-.78.78-.78 2.05 0 2.83L4 21.41c.39.39.9.59 1.41.59.51 0 1.02-.2 1.41-.59l7.78-7.78 2.81-2.81c.8-.78.8-2.07 0-2.86zM5.41 20L4 18.59l7.72-7.72 1.47 1.35L5.41 20z\"/>\n",
              "  </svg>\n",
              "      </button>\n",
              "      \n",
              "  <style>\n",
              "    .colab-df-container {\n",
              "      display:flex;\n",
              "      flex-wrap:wrap;\n",
              "      gap: 12px;\n",
              "    }\n",
              "\n",
              "    .colab-df-convert {\n",
              "      background-color: #E8F0FE;\n",
              "      border: none;\n",
              "      border-radius: 50%;\n",
              "      cursor: pointer;\n",
              "      display: none;\n",
              "      fill: #1967D2;\n",
              "      height: 32px;\n",
              "      padding: 0 0 0 0;\n",
              "      width: 32px;\n",
              "    }\n",
              "\n",
              "    .colab-df-convert:hover {\n",
              "      background-color: #E2EBFA;\n",
              "      box-shadow: 0px 1px 2px rgba(60, 64, 67, 0.3), 0px 1px 3px 1px rgba(60, 64, 67, 0.15);\n",
              "      fill: #174EA6;\n",
              "    }\n",
              "\n",
              "    [theme=dark] .colab-df-convert {\n",
              "      background-color: #3B4455;\n",
              "      fill: #D2E3FC;\n",
              "    }\n",
              "\n",
              "    [theme=dark] .colab-df-convert:hover {\n",
              "      background-color: #434B5C;\n",
              "      box-shadow: 0px 1px 3px 1px rgba(0, 0, 0, 0.15);\n",
              "      filter: drop-shadow(0px 1px 2px rgba(0, 0, 0, 0.3));\n",
              "      fill: #FFFFFF;\n",
              "    }\n",
              "  </style>\n",
              "\n",
              "      <script>\n",
              "        const buttonEl =\n",
              "          document.querySelector('#df-f5f78f91-1593-48df-9654-45b54fdc8225 button.colab-df-convert');\n",
              "        buttonEl.style.display =\n",
              "          google.colab.kernel.accessAllowed ? 'block' : 'none';\n",
              "\n",
              "        async function convertToInteractive(key) {\n",
              "          const element = document.querySelector('#df-f5f78f91-1593-48df-9654-45b54fdc8225');\n",
              "          const dataTable =\n",
              "            await google.colab.kernel.invokeFunction('convertToInteractive',\n",
              "                                                     [key], {});\n",
              "          if (!dataTable) return;\n",
              "\n",
              "          const docLinkHtml = 'Like what you see? Visit the ' +\n",
              "            '<a target=\"_blank\" href=https://colab.research.google.com/notebooks/data_table.ipynb>data table notebook</a>'\n",
              "            + ' to learn more about interactive tables.';\n",
              "          element.innerHTML = '';\n",
              "          dataTable['output_type'] = 'display_data';\n",
              "          await google.colab.output.renderOutput(dataTable, element);\n",
              "          const docLink = document.createElement('div');\n",
              "          docLink.innerHTML = docLinkHtml;\n",
              "          element.appendChild(docLink);\n",
              "        }\n",
              "      </script>\n",
              "    </div>\n",
              "  </div>\n",
              "  "
            ]
          },
          "metadata": {},
          "execution_count": 8
        }
      ]
    },
    {
      "cell_type": "markdown",
      "source": [
        "The dataset contains many unecessary data that won't be used for the topic modeling;\n",
        "\n",
        "Fields such as **url**, **author**, and **date** will be removed.\n",
        "\n",
        "It seems that the dataset, also includes an **postexcerpt**. Which seems to be an abstract of the text that is present in the content column. Although it could be used to make a biased guess on the topic of the text, I believe it's best to dont use it for now, and use only the content of the article."
      ],
      "metadata": {
        "id": "aRd0qOIUah_0"
      }
    },
    {
      "cell_type": "code",
      "source": [
        "data = data.drop(['url', 'date', 'author', 'postexcerpt'], axis=1)"
      ],
      "metadata": {
        "id": "8zwogR97bG7D"
      },
      "execution_count": 14,
      "outputs": []
    },
    {
      "cell_type": "code",
      "source": [
        "data"
      ],
      "metadata": {
        "colab": {
          "base_uri": "https://localhost:8080/",
          "height": 424
        },
        "id": "r1ZkfOmdbQqt",
        "outputId": "c5edcd1a-2a6f-462a-89e7-86fdc61eaccf"
      },
      "execution_count": 15,
      "outputs": [
        {
          "output_type": "execute_result",
          "data": {
            "text/plain": [
              "                                                   title  \\\n",
              "0                   Orion splashes down to end Artemis 1   \n",
              "1      Polaris Dawn crewed mission could suffer addit...   \n",
              "2                   DART on track for asteroid collision   \n",
              "3      U.S. Space Command calls for investment in tec...   \n",
              "4      SpaceX requests permission for direct-to-smart...   \n",
              "...                                                  ...   \n",
              "18349  Kendall lays out Pentagon thinking on future s...   \n",
              "18350  A larger share of NOAA’s declining space budge...   \n",
              "18351  Think Tank Turns Its Attention To Mars As 2016...   \n",
              "18352  House Bill Leaves Last Three JPSS Satellites i...   \n",
              "18353  Championing a Climate Change for Commercial We...   \n",
              "\n",
              "                                                 content  \n",
              "0      Updated at 5:45 p.m. Eastern after post-splash...  \n",
              "1      LAS VEGAS — A billionaire-backed private astro...  \n",
              "2      WASHINGTON — A NASA spacecraft is on course to...  \n",
              "3      WASHINGTON — Lt. Gen. John Shaw, deputy comman...  \n",
              "4      TAMPA, Fla. — SpaceX could provide “full and c...  \n",
              "...                                                  ...  \n",
              "18349  \\nFrank Kendall, the Pentagon’s top acquisitio...  \n",
              "18350  Updated Feb. 10 at 10:18 p.m. Eastern The U.S....  \n",
              "18351  WASHINGTON — As NASA develops a long-term stra...  \n",
              "18352  WASHINGTON — A spending bill the House passed ...  \n",
              "18353  U.S. Rep. Jim Bridenstine (R-Okla.) is a growi...  \n",
              "\n",
              "[18354 rows x 2 columns]"
            ],
            "text/html": [
              "\n",
              "  <div id=\"df-961f9932-2733-47e6-837f-10b8e9b0490f\">\n",
              "    <div class=\"colab-df-container\">\n",
              "      <div>\n",
              "<style scoped>\n",
              "    .dataframe tbody tr th:only-of-type {\n",
              "        vertical-align: middle;\n",
              "    }\n",
              "\n",
              "    .dataframe tbody tr th {\n",
              "        vertical-align: top;\n",
              "    }\n",
              "\n",
              "    .dataframe thead th {\n",
              "        text-align: right;\n",
              "    }\n",
              "</style>\n",
              "<table border=\"1\" class=\"dataframe\">\n",
              "  <thead>\n",
              "    <tr style=\"text-align: right;\">\n",
              "      <th></th>\n",
              "      <th>title</th>\n",
              "      <th>content</th>\n",
              "    </tr>\n",
              "  </thead>\n",
              "  <tbody>\n",
              "    <tr>\n",
              "      <th>0</th>\n",
              "      <td>Orion splashes down to end Artemis 1</td>\n",
              "      <td>Updated at 5:45 p.m. Eastern after post-splash...</td>\n",
              "    </tr>\n",
              "    <tr>\n",
              "      <th>1</th>\n",
              "      <td>Polaris Dawn crewed mission could suffer addit...</td>\n",
              "      <td>LAS VEGAS — A billionaire-backed private astro...</td>\n",
              "    </tr>\n",
              "    <tr>\n",
              "      <th>2</th>\n",
              "      <td>DART on track for asteroid collision</td>\n",
              "      <td>WASHINGTON — A NASA spacecraft is on course to...</td>\n",
              "    </tr>\n",
              "    <tr>\n",
              "      <th>3</th>\n",
              "      <td>U.S. Space Command calls for investment in tec...</td>\n",
              "      <td>WASHINGTON — Lt. Gen. John Shaw, deputy comman...</td>\n",
              "    </tr>\n",
              "    <tr>\n",
              "      <th>4</th>\n",
              "      <td>SpaceX requests permission for direct-to-smart...</td>\n",
              "      <td>TAMPA, Fla. — SpaceX could provide “full and c...</td>\n",
              "    </tr>\n",
              "    <tr>\n",
              "      <th>...</th>\n",
              "      <td>...</td>\n",
              "      <td>...</td>\n",
              "    </tr>\n",
              "    <tr>\n",
              "      <th>18349</th>\n",
              "      <td>Kendall lays out Pentagon thinking on future s...</td>\n",
              "      <td>\\nFrank Kendall, the Pentagon’s top acquisitio...</td>\n",
              "    </tr>\n",
              "    <tr>\n",
              "      <th>18350</th>\n",
              "      <td>A larger share of NOAA’s declining space budge...</td>\n",
              "      <td>Updated Feb. 10 at 10:18 p.m. Eastern The U.S....</td>\n",
              "    </tr>\n",
              "    <tr>\n",
              "      <th>18351</th>\n",
              "      <td>Think Tank Turns Its Attention To Mars As 2016...</td>\n",
              "      <td>WASHINGTON — As NASA develops a long-term stra...</td>\n",
              "    </tr>\n",
              "    <tr>\n",
              "      <th>18352</th>\n",
              "      <td>House Bill Leaves Last Three JPSS Satellites i...</td>\n",
              "      <td>WASHINGTON — A spending bill the House passed ...</td>\n",
              "    </tr>\n",
              "    <tr>\n",
              "      <th>18353</th>\n",
              "      <td>Championing a Climate Change for Commercial We...</td>\n",
              "      <td>U.S. Rep. Jim Bridenstine (R-Okla.) is a growi...</td>\n",
              "    </tr>\n",
              "  </tbody>\n",
              "</table>\n",
              "<p>18354 rows × 2 columns</p>\n",
              "</div>\n",
              "      <button class=\"colab-df-convert\" onclick=\"convertToInteractive('df-961f9932-2733-47e6-837f-10b8e9b0490f')\"\n",
              "              title=\"Convert this dataframe to an interactive table.\"\n",
              "              style=\"display:none;\">\n",
              "        \n",
              "  <svg xmlns=\"http://www.w3.org/2000/svg\" height=\"24px\"viewBox=\"0 0 24 24\"\n",
              "       width=\"24px\">\n",
              "    <path d=\"M0 0h24v24H0V0z\" fill=\"none\"/>\n",
              "    <path d=\"M18.56 5.44l.94 2.06.94-2.06 2.06-.94-2.06-.94-.94-2.06-.94 2.06-2.06.94zm-11 1L8.5 8.5l.94-2.06 2.06-.94-2.06-.94L8.5 2.5l-.94 2.06-2.06.94zm10 10l.94 2.06.94-2.06 2.06-.94-2.06-.94-.94-2.06-.94 2.06-2.06.94z\"/><path d=\"M17.41 7.96l-1.37-1.37c-.4-.4-.92-.59-1.43-.59-.52 0-1.04.2-1.43.59L10.3 9.45l-7.72 7.72c-.78.78-.78 2.05 0 2.83L4 21.41c.39.39.9.59 1.41.59.51 0 1.02-.2 1.41-.59l7.78-7.78 2.81-2.81c.8-.78.8-2.07 0-2.86zM5.41 20L4 18.59l7.72-7.72 1.47 1.35L5.41 20z\"/>\n",
              "  </svg>\n",
              "      </button>\n",
              "      \n",
              "  <style>\n",
              "    .colab-df-container {\n",
              "      display:flex;\n",
              "      flex-wrap:wrap;\n",
              "      gap: 12px;\n",
              "    }\n",
              "\n",
              "    .colab-df-convert {\n",
              "      background-color: #E8F0FE;\n",
              "      border: none;\n",
              "      border-radius: 50%;\n",
              "      cursor: pointer;\n",
              "      display: none;\n",
              "      fill: #1967D2;\n",
              "      height: 32px;\n",
              "      padding: 0 0 0 0;\n",
              "      width: 32px;\n",
              "    }\n",
              "\n",
              "    .colab-df-convert:hover {\n",
              "      background-color: #E2EBFA;\n",
              "      box-shadow: 0px 1px 2px rgba(60, 64, 67, 0.3), 0px 1px 3px 1px rgba(60, 64, 67, 0.15);\n",
              "      fill: #174EA6;\n",
              "    }\n",
              "\n",
              "    [theme=dark] .colab-df-convert {\n",
              "      background-color: #3B4455;\n",
              "      fill: #D2E3FC;\n",
              "    }\n",
              "\n",
              "    [theme=dark] .colab-df-convert:hover {\n",
              "      background-color: #434B5C;\n",
              "      box-shadow: 0px 1px 3px 1px rgba(0, 0, 0, 0.15);\n",
              "      filter: drop-shadow(0px 1px 2px rgba(0, 0, 0, 0.3));\n",
              "      fill: #FFFFFF;\n",
              "    }\n",
              "  </style>\n",
              "\n",
              "      <script>\n",
              "        const buttonEl =\n",
              "          document.querySelector('#df-961f9932-2733-47e6-837f-10b8e9b0490f button.colab-df-convert');\n",
              "        buttonEl.style.display =\n",
              "          google.colab.kernel.accessAllowed ? 'block' : 'none';\n",
              "\n",
              "        async function convertToInteractive(key) {\n",
              "          const element = document.querySelector('#df-961f9932-2733-47e6-837f-10b8e9b0490f');\n",
              "          const dataTable =\n",
              "            await google.colab.kernel.invokeFunction('convertToInteractive',\n",
              "                                                     [key], {});\n",
              "          if (!dataTable) return;\n",
              "\n",
              "          const docLinkHtml = 'Like what you see? Visit the ' +\n",
              "            '<a target=\"_blank\" href=https://colab.research.google.com/notebooks/data_table.ipynb>data table notebook</a>'\n",
              "            + ' to learn more about interactive tables.';\n",
              "          element.innerHTML = '';\n",
              "          dataTable['output_type'] = 'display_data';\n",
              "          await google.colab.output.renderOutput(dataTable, element);\n",
              "          const docLink = document.createElement('div');\n",
              "          docLink.innerHTML = docLinkHtml;\n",
              "          element.appendChild(docLink);\n",
              "        }\n",
              "      </script>\n",
              "    </div>\n",
              "  </div>\n",
              "  "
            ]
          },
          "metadata": {},
          "execution_count": 15
        }
      ]
    },
    {
      "cell_type": "code",
      "source": [
        "# clean the collection and store the restult into docs_tk\n",
        "docs_tk = [clean(doc) for doc in docs]\n",
        "#show the NDOC clean document\n",
        "docs_tk[NDOC]"
      ],
      "metadata": {
        "id": "LcE8IC1lRero",
        "colab": {
          "base_uri": "https://localhost:8080/",
          "height": 128
        },
        "outputId": "18414537-a7d5-4d49-c831-d31bc3fcb252"
      },
      "execution_count": null,
      "outputs": [
        {
          "output_type": "execute_result",
          "data": {
            "text/plain": [
              "'synopsis  mentally unstable man undergoing psychotherapy saves boy potentially fatal accident falls love boy  mother  fledgling restauranteur  unsuccessfully attempting gain woman  favor  takes pictures kills number people way  comments  stalked yet another seemingly endless string spurned  psychos  getting   revenge type movies stable category 1990s film industry  theatrical direct   video  proliferation may due part fact  typically inexpensive produce  special effects  big name stars  serve vehicles flash nudity  allowing frequent late  night cable television   stalked wavers slightly norm one respect  psycho never actually affair  contrary   rejected rather quickly  psycho typically ex  lover  ex  wife  ex  husband    stalked another redundant entry doomed collect dust video shelves viewed midnight cable  stalked provide much suspense  though sets  interspersed throughout opening credits  instance  serious  sounding narrator spouts statistics stalkers ponders may cause man stalk   implicitly implied stalkers men  pictures boy shown screen  credits  snapshot actor jay underwood appears  narrator states  story daryl gleason  tells audience stalker  course  really  story restauranteur brooke daniels  movie meant daryl  called stalker stalked  okay  know stalker even movie starts  guesswork required  stalked proceeds   begins  obvious  obvious  obvious  opening sequence  contrived quite bit  brings daryl brooke  victim  together  daryl obsesses brooke  follows around  tries woo  ultimately rejected  plans become desperate elaborate  plans include  time  psycho   love  cliche  murdered pet  reason  genre  films require dead pet found victim stalked  stalked exception   cat time  found shower   events like lead inevitable showdown stalker stalked  one survives  guess invariably always  guess conclusion turkey   stalked  cast uniformly adequate  anything write home also bad either  jay underwood  stalker  turns toward melodrama bit much  overdoes  words  still manages creepy enough pass type stalker story demands  maryam  abo  actor close star  played bond chick living daylights   equally adequate  stalked  title  even though seems ditzy times strong  independent business  owner  brooke   abo  needs ditzy  however  plot proceed  toward end  example  brooke suspicions daryl  ensure  use another excuse see  brooke decides return toolbox left place house  leave toolbox door one answers  course  tries door  opens  wanders around house  daryl returns  enters house  course  heroine danger  somehow  even though car parked front house  right front door  daryl oblivious presence inside  whole episode places incredible strain audience  suspension disbelief questions validity either character  intelligence  stalked receives two stars  even though highly derivative somewhat boring  bad cannot watched  rated r mostly several murder scenes brief nudity strip bar  offensive many thrillers genre   mood good suspense film  though  stake something else '"
            ],
            "application/vnd.google.colaboratory.intrinsic+json": {
              "type": "string"
            }
          },
          "metadata": {},
          "execution_count": 10
        }
      ]
    },
    {
      "cell_type": "code",
      "source": [
        "print(len(docs),'-',len(docs_tk))"
      ],
      "metadata": {
        "colab": {
          "base_uri": "https://localhost:8080/"
        },
        "id": "hRVWBT53uUC7",
        "outputId": "ae6469c3-de69-4e48-a059-a1ce1c269144"
      },
      "execution_count": null,
      "outputs": [
        {
          "output_type": "stream",
          "name": "stdout",
          "text": [
            "1000 - 1000\n"
          ]
        }
      ]
    },
    {
      "cell_type": "code",
      "source": [
        "#tokenize the documents (and eliminate words with less than 3 letters)\n",
        "docs_tk=[gensim.utils.simple_preprocess(d, deacc= True, min_len=3) for d in docs_tk]\n",
        "len_token=[len(d) for d in docs_tk]\n",
        "#some statistics\n",
        "print('# of words:', sum(len_token))\n",
        "print('Average # of words:', sum(len_token)/len(len_token))"
      ],
      "metadata": {
        "colab": {
          "base_uri": "https://localhost:8080/"
        },
        "id": "c1RY3xvoRtoX",
        "outputId": "8566cac1-b022-4585-ae1c-4ba3b60c6d3b"
      },
      "execution_count": null,
      "outputs": [
        {
          "output_type": "stream",
          "name": "stdout",
          "text": [
            "# of words: 326218\n",
            "Average # of words: 326.218\n"
          ]
        }
      ]
    },
    {
      "cell_type": "code",
      "source": [
        "# generate bigrams\n",
        "# docs_bg is a copy from docs_tk with bigrams\n",
        "phrases  = Phrases(docs_tk, min_count = 5,threshold=.9,scoring='npmi') #10 e 5 default threshold 20 (npmi from -1 to 1)\n",
        "bigram=Phraser(phrases)\n",
        "docs_bg=[bigram[d] for d in docs_tk]\n",
        "#dictionary=Dictionary(docs_bg)\n",
        "#dictionary.filter_extremes(keep_n = 10000, no_above= 0.8, no_below = len(docs_bg)*.1)\n",
        "#corpus=[dictionary.doc2bow(d) for d in docs_bg]\n",
        "#print(len(docs_bg))\n",
        "docs_bg[NDOC]"
      ],
      "metadata": {
        "id": "jjK6j09_SUBZ"
      },
      "execution_count": null,
      "outputs": []
    },
    {
      "cell_type": "markdown",
      "source": [
        "#Just to show the built bigrams"
      ],
      "metadata": {
        "id": "eZJskusZcPWT"
      }
    },
    {
      "cell_type": "code",
      "source": [
        "uniqw=set()\n",
        "#show the built bigrams\n",
        "for i,d in enumerate(docs_bg):\n",
        "  for w in d:\n",
        "    if '_' in w:\n",
        "      uniqw.add(w)\n",
        "      print(i,w)\n",
        "print(len(uniqw))"
      ],
      "metadata": {
        "id": "4Jf0EmiQmej2"
      },
      "execution_count": null,
      "outputs": []
    },
    {
      "cell_type": "markdown",
      "source": [
        "## Let's test stemming, lemmatization (spacy and nltk)"
      ],
      "metadata": {
        "id": "QXH8xvSjSn0p"
      }
    },
    {
      "cell_type": "code",
      "source": [
        "# docs_lm is a copy from docs_bg but lemmatized (using spacy)\n",
        "docs_lm=[]\n",
        "for i,d in enumerate(docs_bg):\n",
        "  print(i,end='')\n",
        "  d=\" \".join([w for w in d])\n",
        "  tdoc=nlp(d)\n",
        "  lm=\" \".join([token.lemma_ for token in tdoc]) # if not(token.is_stop == True or token.is_punct == True or '_' in token.lemma_)])\n",
        "  docs_lm.append(lm)\n",
        "  print('\\r\\r\\r\\r\\r\\r\\r\\r',end='')\n",
        "print()\n",
        "print(len(docs_lm))"
      ],
      "metadata": {
        "id": "IH6-rkJNSvl5",
        "colab": {
          "base_uri": "https://localhost:8080/"
        },
        "outputId": "46316071-88d7-46fd-e9fe-4c04e4506880"
      },
      "execution_count": null,
      "outputs": [
        {
          "output_type": "stream",
          "name": "stdout",
          "text": [
            "999\n",
            "1000\n"
          ]
        }
      ]
    },
    {
      "cell_type": "code",
      "source": [
        "x=nlp('cannot')\n",
        "[token.lemma_ for token in x]"
      ],
      "metadata": {
        "id": "th66fqY_wk5a",
        "colab": {
          "base_uri": "https://localhost:8080/"
        },
        "outputId": "87fd4e4d-53c2-46ba-fcc7-db2d5e01c8df"
      },
      "execution_count": null,
      "outputs": [
        {
          "output_type": "execute_result",
          "data": {
            "text/plain": [
              "['can', 'not']"
            ]
          },
          "metadata": {},
          "execution_count": 16
        }
      ]
    },
    {
      "cell_type": "code",
      "source": [
        "#Part Of Speech (POS) using spacy\n",
        "mydoc=nlp(' '.join([w for w in docs_bg[NDOC]]))\n",
        "print(f\"{'text':{15}} {'POS':{6}} {'TAG':{6}} {'Dep':{10}} {'POS explained':{25}} {'tag explained'} \")\n",
        "print('='*100)\n",
        "for token in mydoc: #visit all words in the NDOC document to check their POS\n",
        "  print(f'{token.text:{15}} {token.pos_:{6}} {token.tag_:{6}} {token.dep_:{10}} {spacy.explain(token.pos_):{25}} {spacy.explain(token.tag_)}')\n"
      ],
      "metadata": {
        "id": "3LkToeP5_2wn"
      },
      "execution_count": null,
      "outputs": []
    },
    {
      "cell_type": "code",
      "source": [
        "# NDOC document with lemmatization\n",
        "' '.join([w for w in docs_lm[NDOC].split()])"
      ],
      "metadata": {
        "id": "CZ6DTAGHWuQd"
      },
      "execution_count": null,
      "outputs": []
    },
    {
      "cell_type": "code",
      "source": [
        "docs_bg[NDOC]"
      ],
      "metadata": {
        "id": "6wfdLiP3vLA3"
      },
      "execution_count": null,
      "outputs": []
    },
    {
      "cell_type": "code",
      "source": [
        "ps = PorterStemmer()\n",
        "lemmatizer = WordNetLemmatizer() #(using nltk)\n",
        "# how the words from the first document: original, stemm, lemmatize (nltk), lemmatize (spacy)\n",
        "print(f\"{'Original':{15}} {'Stemmed':{15}} {'Lem NLTK':{15}} {'Lem SPACY':{15}}'\")\n",
        "print(\"=\"*60)\n",
        "dlm=docs_lm[NDOC].split()\n",
        "for i,w in enumerate(docs_bg[NDOC]):\n",
        "  print(f'{w:{15}} {ps.stem(w):{15}} {lemmatizer.lemmatize(w):{15}} {dlm[i]:{15}}')"
      ],
      "metadata": {
        "id": "Q79d_kJBTajH"
      },
      "execution_count": null,
      "outputs": []
    }
  ]
}